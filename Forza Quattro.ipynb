{
 "cells": [
  {
   "cell_type": "code",
   "execution_count": 11,
   "metadata": {
    "collapsed": true
   },
   "outputs": [],
   "source": [
    "import numpy as np\n",
    "import matplotlib.pyplot as plt\n",
    "%matplotlib inline"
   ]
  },
  {
   "cell_type": "code",
   "execution_count": 77,
   "metadata": {
    "collapsed": false
   },
   "outputs": [],
   "source": [
    "ROWS    = 6                        # Number of rows in the board\n",
    "COLS    = 7                        # Number of columns in the board\n",
    "INPUT   = 2*(ROWS*COLS) + 1        # Number of neurons in the input layer\n",
    "POPU    = 24                       # Population size ( for the genetic algo )\n",
    "EPOCHS  = 30                       # Number of generations ( for the genetic algo )\n",
    "LIFE    = 10                       # Number of ...( for the genetic algo )\n",
    "MUTAT   = 1                        # Average mutation strenght ( for the genetic algo )\n",
    "HIDDEN  = 0                        # Number of hidden layers\n",
    "LAYERS  = [INPUT, COLS]            # Number of neurons in each layer\n",
    "COLORS  = {'Red':1, 'Yellow':2}\n",
    "PLAYERS = ['Draw', 'Red', 'Yellow']"
   ]
  },
  {
   "cell_type": "code",
   "execution_count": 78,
   "metadata": {
    "collapsed": false
   },
   "outputs": [],
   "source": [
    "# Board functions\n",
    "\n",
    "def NewTable():\n",
    "    return np.zeros(shape=(ROWS,COLS))\n",
    "\n",
    "def DropIn(table, j, color):\n",
    "     \n",
    "    ok = ( not IsColFull(table,j ) )\n",
    "    for i in range(1,ROWS+1):\n",
    "        if table[ROWS-i][j]==0:\n",
    "            table[ROWS-i][j] = color\n",
    "            break\n",
    "\n",
    "    return table, ok\n",
    "\n",
    "def IsFull(board):\n",
    "    return ( len(board[board==0]) == 0 )\n",
    "\n",
    "def IsColFull(board, j):\n",
    "    return ( len(board[:,j][board[:,j]==0]) == 0 )\n",
    "\n",
    "def DrawBoard(table):\n",
    "    for i in range(0,ROWS):\n",
    "        for j in range(0,COLS):\n",
    "            pedina = table[ROWS-i-1][j]\n",
    "            if   pedina == 1: color='red'\n",
    "            elif pedina == 2: color='yellow'\n",
    "            else : color='white'\n",
    "            circle = plt.Circle((j,i), 0.4, fc=color)\n",
    "            plt.gca().add_patch(circle)\n",
    "    plt.axis('scaled')\n",
    "    \n",
    "\n",
    "# Game Evaluation functions ( who won? )\n",
    "\n",
    "def CheckRow(i, table):\n",
    "    row = table[i]\n",
    "    for j in range(0,COLS-4+1):\n",
    "        x = np.prod(row[j:j+4])\n",
    "        if x==1**4 :\n",
    "            return 1     \n",
    "        elif x==2**4 :\n",
    "            return 2\n",
    "    return 0\n",
    "\n",
    "def CheckColumn(j, table):\n",
    "    col = table[:,j]\n",
    "    for i in range(0,ROWS-4+1):\n",
    "        x = np.prod(col[i:i+4])\n",
    "        if x==1**4 :\n",
    "            return 1\n",
    "        elif x==2**4 :\n",
    "            return 2\n",
    "    return 0\n",
    "\n",
    "def CheckDiagonal(i, j, table, anti=False):\n",
    "    \n",
    "    direction = 1 - 2*int(anti)\n",
    "    diag = np.zeros(4)\n",
    "    for k in range(0,4):\n",
    "        diag[k] = table[ i+k, j + direction * k ]\n",
    "    x = np.prod(diag)\n",
    "\n",
    "    if x==1**4 :\n",
    "        return 1\n",
    "    elif x==2**4 :\n",
    "        return 2\n",
    "    else :\n",
    "        return 0\n",
    "    \n",
    "def Winner(table):\n",
    "    for i in range(0,ROWS):\n",
    "        x = CheckRow(i, table)\n",
    "        if x: return x\n",
    "        \n",
    "        for j in range(0,COLS):\n",
    "            x = CheckColumn(j, table)\n",
    "            if x: return x\n",
    "            \n",
    "            if i < ROWS-4+1:\n",
    "                if j < COLS-4+1:\n",
    "                    x = CheckDiagonal(i,j, table)\n",
    "                    if x: return x\n",
    "\n",
    "                if j >= COLS-4:\n",
    "                    x = CheckDiagonal(i,j, table, anti=True)\n",
    "                    if x: return x\n",
    "    return x\n",
    "\n",
    "def AnnounceWinner(board):\n",
    "    x = Winner(board)\n",
    "    if x > 0: print('{0} won!'.format(PLAYERS[x]))"
   ]
  },
  {
   "cell_type": "code",
   "execution_count": 317,
   "metadata": {
    "collapsed": false
   },
   "outputs": [],
   "source": [
    "# Neural Net functions\n",
    "\n",
    "def Sigmoid(x,deriv=False):\n",
    "    if(deriv==True):\n",
    "        return x*(1-x)\n",
    "    return 1/(1+np.exp(-x))\n",
    "\n",
    "def HotVector(n):\n",
    "    v = np.zeros(COLS)\n",
    "    v[n] = 1\n",
    "    return v\n",
    "\n",
    "def RandomTrain(X,Y,N):\n",
    "    idx = np.random.choice(range(0, len(X)), N)\n",
    "    return X[idx], Y[idx]\n",
    "\n",
    "def Input(board):\n",
    "    X1  = board.reshape(COLS*ROWS).copy()\n",
    "    X1[X1==2] = 0\n",
    "    X2  = board.reshape(COLS*ROWS).copy()\n",
    "    X2[X2==1] = 0   \n",
    "    X2[X2==2] = 1  \n",
    "    X  = np.append(1, X1)\n",
    "    X  = np.append(X, X2)\n",
    "    return X\n",
    "\n",
    "def ForwardProp(X0, w):\n",
    "    X1  = Sigmoid( np.dot( X0, w.T ) )\n",
    "    #X1[:,0] = 1 # Bias unit\n",
    "    #X2  = Sigmoid( np.dot( X1, w[1].T ) )\n",
    "    return X1\n",
    "\n",
    "def Response(table, w, full=False):\n",
    "    \n",
    "    X0  = Input(table)\n",
    "    Y   = Sigmoid(ForwardProp(Input(table), w))\n",
    "    for i in range(0, COLS):\n",
    "        if ( IsColFull(table,i) ): Y[i] = 0\n",
    "    \n",
    "    if full : return Y\n",
    "    return np.argmax(Y)\n",
    "\n",
    "def MakeMove(table, w1, p):\n",
    "    table, ok = DropIn(table, Response(table, w1), p)\n",
    "    return table\n",
    "\n",
    "\n",
    "# Genetic Algo functions\n",
    "\n",
    "def RandomWeights():\n",
    "    \n",
    "    we = []\n",
    "    for h in range(0, HIDDEN+1):\n",
    "        we.append( np.random.uniform(low=-1, high=1, size=(LAYERS[h+1], LAYERS[h])) )\n",
    "    return we\n",
    "        \n",
    "def Mutate(w1):\n",
    "    new = []\n",
    "    for h in range(0, HIDDEN+1):\n",
    "        new.append( w1[h] + MUTAT * np.random.normal(size=(LAYERS[h+1], LAYERS[h])) )\n",
    "    return new\n",
    "\n",
    "def Reward(winner,number_of_moves):\n",
    "    if   winner==0: return 0\n",
    "    elif winner==1: return 1\n",
    "    else          : return -1\n",
    "\n",
    "def Offspring(w1, w2):\n",
    "    \n",
    "    half = 1\n",
    "    new  = []\n",
    "    for i in range(0, POPU-2):\n",
    "        if   i%2==0: new.append( Mutate(w1) )\n",
    "        elif i%2==1: new.append( Mutate(w2) )\n",
    "        #elif i%3==2: new.append( np.append(w1[:half], w2[half:], axis=0) )\n",
    "        #elif i%3==3: new.append( np.append(w2[:half], w1[half:], axis=0) )\n",
    "        \n",
    "    new.append(w1)\n",
    "    new.append(w2)\n",
    "    return new"
   ]
  },
  {
   "cell_type": "code",
   "execution_count": 318,
   "metadata": {
    "collapsed": true
   },
   "outputs": [],
   "source": [
    "# Random Game functions\n",
    "\n",
    "def RandomMove(table, moves, x):\n",
    "    \n",
    "    ok = False\n",
    "    while(not ok):\n",
    "        i = np.random.randint(0, COLS)\n",
    "        table, ok = DropIn(table,i,1)\n",
    "    moves.append(i)\n",
    "    x = Winner(board)\n",
    "    if x > 0 : return table, moves, x\n",
    "    \n",
    "    ok = False  \n",
    "    while(not ok):\n",
    "        i = np.random.randint(0, COLS)\n",
    "        table, ok = DropIn(table,i,2)\n",
    "    moves.append(i)\n",
    "    x = Winner(board)\n",
    "    return table, moves, x\n",
    "\n",
    "def RandomMatch(table, moves, x):\n",
    "    for i in range(0,int(ROWS*COLS/2) ):\n",
    "        table, moves, x = RandomMove(table, moves, x)\n",
    "        if x > 0 : break\n",
    "    return table, moves, x\n",
    "\n",
    "\n",
    "# Change the last move\n",
    "\n",
    "def AnotherChance(board, moves, new):\n",
    "    \n",
    "    table = board.copy()\n",
    "    \n",
    "    j   = moves[-1]\n",
    "    i   = ROWS - len( np.trim_zeros(table[:,j]) )\n",
    "    table[i,j] = 0\n",
    "    \n",
    "    j   = moves[-2]\n",
    "    i   = ROWS - len( np.trim_zeros(table[:,j]) ) \n",
    "    table[i,j] = 0\n",
    "\n",
    "    j   = new\n",
    "    i   = ROWS - len( np.trim_zeros(table[:,j]) ) - 1\n",
    "    table[i,j] = 1\n",
    "    \n",
    "    j   = moves[-1]\n",
    "    i   = ROWS - len( np.trim_zeros(table[:,j]) ) - 1\n",
    "    table[i,j] = 2\n",
    "    \n",
    "    x = Winner(table)\n",
    "    moves = moves[:-2] + [ new, moves[-1] ]\n",
    "    return table, moves, x"
   ]
  },
  {
   "cell_type": "markdown",
   "metadata": {},
   "source": [
    "## Training Set"
   ]
  },
  {
   "cell_type": "code",
   "execution_count": 18,
   "metadata": {
    "collapsed": false,
    "scrolled": false
   },
   "outputs": [
    {
     "name": "stdout",
     "output_type": "stream",
     "text": [
      "443\n",
      "CPU times: user 42.5 s, sys: 210 ms, total: 42.7 s\n",
      "Wall time: 47.4 s\n"
     ]
    }
   ],
   "source": [
    "%%time\n",
    "train = []\n",
    "\n",
    "for i in range(0,100):\n",
    "    board, moves, x = NewTable(), [], 0\n",
    "    board, moves, x = RandomMatch(board, moves, x)\n",
    "    if x > 1: train.append([board, moves].copy())\n",
    "        \n",
    "print(len(train))"
   ]
  },
  {
   "cell_type": "markdown",
   "metadata": {},
   "source": [
    "# Training"
   ]
  },
  {
   "cell_type": "code",
   "execution_count": 71,
   "metadata": {
    "collapsed": true
   },
   "outputs": [],
   "source": []
  },
  {
   "cell_type": "code",
   "execution_count": 107,
   "metadata": {
    "collapsed": false
   },
   "outputs": [],
   "source": [
    "w = RandomWeights()[0]\n",
    "S = 10\n",
    "X = np.array([ Input(board)         for (board, moves) in train[:S] ])\n",
    "Y = np.array([ HotVector(moves[-1]) for (board, moves) in train[:S] ])"
   ]
  },
  {
   "cell_type": "code",
   "execution_count": 108,
   "metadata": {
    "collapsed": false
   },
   "outputs": [
    {
     "data": {
      "text/plain": [
       "(7, 85)"
      ]
     },
     "execution_count": 108,
     "metadata": {},
     "output_type": "execute_result"
    }
   ],
   "source": [
    "w.shape"
   ]
  },
  {
   "cell_type": "code",
   "execution_count": 342,
   "metadata": {
    "collapsed": false,
    "scrolled": true
   },
   "outputs": [
    {
     "name": "stdout",
     "output_type": "stream",
     "text": [
      "15.3023852656\n",
      "0.000363573479597\n",
      "0.000199163959948\n",
      "0.000138690132759\n",
      "0.000106889718699\n"
     ]
    }
   ],
   "source": [
    "for j in range(5000):\n",
    "    \n",
    "    # Forward Propagation\n",
    "    X1  = Sigmoid( np.dot( X , w[0].T ) )\n",
    "    #X1[:,0] = 1 # Bias unit (this is not correct!!)\n",
    "    X2  = Sigmoid( np.dot( X1, w[1].T ) )\n",
    "\n",
    "    # how much did we miss?\n",
    "    error2 = Y - X2\n",
    "\n",
    "    # multiply how much we missed by the slope of the sigmoid at the values in X2\n",
    "    delta2 = error2 * Sigmoid(X2,True)\n",
    "\n",
    "    # Back-propagate the error to the first layer\n",
    "    error1 = np.dot( delta2, w[1] )\n",
    "    \n",
    "    # Compute the delta fot the weights 0 -> 1\n",
    "    delta1 = error1 * Sigmoid(X1,True)\n",
    "\n",
    "    # update the weights\n",
    "    w[1] += np.dot(X1.T, delta2).T\n",
    "    w[0] += np.dot(X.T , delta1).T\n",
    "    \n",
    "    if (j% 1000) == 0:\n",
    "        print( (error2 * error2).sum() )"
   ]
  },
  {
   "cell_type": "markdown",
   "metadata": {},
   "source": [
    "## Evolution"
   ]
  },
  {
   "cell_type": "code",
   "execution_count": 155,
   "metadata": {
    "collapsed": true
   },
   "outputs": [
    {
     "ename": "ValueError",
     "evalue": "shapes (6,7) and (85,85) not aligned: 7 (dim 1) != 85 (dim 0)",
     "output_type": "error",
     "traceback": [
      "\u001b[0;31m---------------------------------------------------------------------------\u001b[0m",
      "\u001b[0;31mValueError\u001b[0m                                Traceback (most recent call last)",
      "\u001b[0;32m<ipython-input-155-c7ac9bcee44f>\u001b[0m in \u001b[0;36m<module>\u001b[0;34m()\u001b[0m\n\u001b[0;32m----> 1\u001b[0;31m \u001b[0mget_ipython\u001b[0m\u001b[0;34m(\u001b[0m\u001b[0;34m)\u001b[0m\u001b[0;34m.\u001b[0m\u001b[0mrun_cell_magic\u001b[0m\u001b[0;34m(\u001b[0m\u001b[0;34m'time'\u001b[0m\u001b[0;34m,\u001b[0m \u001b[0;34m''\u001b[0m\u001b[0;34m,\u001b[0m \u001b[0;34m\"E  = 20\\nw  = RandomWeights()\\nw  = Offspring(w,w)\\n\\nfor e in range(0,E):\\n    fits = []\\n    for p in range(0,POPU):\\n        fitness = 0\\n        for (board, moves) in train:\\n            board2, moves2, x2 = AnotherChance(board, moves, Response(board, w[p]) )\\n            fitness += (x2+1)%3\\n        fits.append(fitness)\\n    print('Generation {0}, Fitness = {1}'.format(e, np.max(fits)))\\n    \\n    best   = np.argmax(fits)\\n    w1 = w[best]\\n    fits[best] = 0\\n    best   = np.argmax(fits)\\n    w2 = w[best]\\n    #w2 = RandomWeights()\\n    w  = Offspring(w1,w2) \"\u001b[0m\u001b[0;34m)\u001b[0m\u001b[0;34m\u001b[0m\u001b[0m\n\u001b[0m",
      "\u001b[0;32m/Users/abramo/anaconda/envs/py35/lib/python3.5/site-packages/IPython/core/interactiveshell.py\u001b[0m in \u001b[0;36mrun_cell_magic\u001b[0;34m(self, magic_name, line, cell)\u001b[0m\n\u001b[1;32m   2118\u001b[0m             \u001b[0mmagic_arg_s\u001b[0m \u001b[0;34m=\u001b[0m \u001b[0mself\u001b[0m\u001b[0;34m.\u001b[0m\u001b[0mvar_expand\u001b[0m\u001b[0;34m(\u001b[0m\u001b[0mline\u001b[0m\u001b[0;34m,\u001b[0m \u001b[0mstack_depth\u001b[0m\u001b[0;34m)\u001b[0m\u001b[0;34m\u001b[0m\u001b[0m\n\u001b[1;32m   2119\u001b[0m             \u001b[0;32mwith\u001b[0m \u001b[0mself\u001b[0m\u001b[0;34m.\u001b[0m\u001b[0mbuiltin_trap\u001b[0m\u001b[0;34m:\u001b[0m\u001b[0;34m\u001b[0m\u001b[0m\n\u001b[0;32m-> 2120\u001b[0;31m                 \u001b[0mresult\u001b[0m \u001b[0;34m=\u001b[0m \u001b[0mfn\u001b[0m\u001b[0;34m(\u001b[0m\u001b[0mmagic_arg_s\u001b[0m\u001b[0;34m,\u001b[0m \u001b[0mcell\u001b[0m\u001b[0;34m)\u001b[0m\u001b[0;34m\u001b[0m\u001b[0m\n\u001b[0m\u001b[1;32m   2121\u001b[0m             \u001b[0;32mreturn\u001b[0m \u001b[0mresult\u001b[0m\u001b[0;34m\u001b[0m\u001b[0m\n\u001b[1;32m   2122\u001b[0m \u001b[0;34m\u001b[0m\u001b[0m\n",
      "\u001b[0;32m<decorator-gen-60>\u001b[0m in \u001b[0;36mtime\u001b[0;34m(self, line, cell, local_ns)\u001b[0m\n",
      "\u001b[0;32m/Users/abramo/anaconda/envs/py35/lib/python3.5/site-packages/IPython/core/magic.py\u001b[0m in \u001b[0;36m<lambda>\u001b[0;34m(f, *a, **k)\u001b[0m\n\u001b[1;32m    191\u001b[0m     \u001b[0;31m# but it's overkill for just that one bit of state.\u001b[0m\u001b[0;34m\u001b[0m\u001b[0;34m\u001b[0m\u001b[0m\n\u001b[1;32m    192\u001b[0m     \u001b[0;32mdef\u001b[0m \u001b[0mmagic_deco\u001b[0m\u001b[0;34m(\u001b[0m\u001b[0marg\u001b[0m\u001b[0;34m)\u001b[0m\u001b[0;34m:\u001b[0m\u001b[0;34m\u001b[0m\u001b[0m\n\u001b[0;32m--> 193\u001b[0;31m         \u001b[0mcall\u001b[0m \u001b[0;34m=\u001b[0m \u001b[0;32mlambda\u001b[0m \u001b[0mf\u001b[0m\u001b[0;34m,\u001b[0m \u001b[0;34m*\u001b[0m\u001b[0ma\u001b[0m\u001b[0;34m,\u001b[0m \u001b[0;34m**\u001b[0m\u001b[0mk\u001b[0m\u001b[0;34m:\u001b[0m \u001b[0mf\u001b[0m\u001b[0;34m(\u001b[0m\u001b[0;34m*\u001b[0m\u001b[0ma\u001b[0m\u001b[0;34m,\u001b[0m \u001b[0;34m**\u001b[0m\u001b[0mk\u001b[0m\u001b[0;34m)\u001b[0m\u001b[0;34m\u001b[0m\u001b[0m\n\u001b[0m\u001b[1;32m    194\u001b[0m \u001b[0;34m\u001b[0m\u001b[0m\n\u001b[1;32m    195\u001b[0m         \u001b[0;32mif\u001b[0m \u001b[0mcallable\u001b[0m\u001b[0;34m(\u001b[0m\u001b[0marg\u001b[0m\u001b[0;34m)\u001b[0m\u001b[0;34m:\u001b[0m\u001b[0;34m\u001b[0m\u001b[0m\n",
      "\u001b[0;32m/Users/abramo/anaconda/envs/py35/lib/python3.5/site-packages/IPython/core/magics/execution.py\u001b[0m in \u001b[0;36mtime\u001b[0;34m(self, line, cell, local_ns)\u001b[0m\n\u001b[1;32m   1175\u001b[0m         \u001b[0;32melse\u001b[0m\u001b[0;34m:\u001b[0m\u001b[0;34m\u001b[0m\u001b[0m\n\u001b[1;32m   1176\u001b[0m             \u001b[0mst\u001b[0m \u001b[0;34m=\u001b[0m \u001b[0mclock2\u001b[0m\u001b[0;34m(\u001b[0m\u001b[0;34m)\u001b[0m\u001b[0;34m\u001b[0m\u001b[0m\n\u001b[0;32m-> 1177\u001b[0;31m             \u001b[0mexec\u001b[0m\u001b[0;34m(\u001b[0m\u001b[0mcode\u001b[0m\u001b[0;34m,\u001b[0m \u001b[0mglob\u001b[0m\u001b[0;34m,\u001b[0m \u001b[0mlocal_ns\u001b[0m\u001b[0;34m)\u001b[0m\u001b[0;34m\u001b[0m\u001b[0m\n\u001b[0m\u001b[1;32m   1178\u001b[0m             \u001b[0mend\u001b[0m \u001b[0;34m=\u001b[0m \u001b[0mclock2\u001b[0m\u001b[0;34m(\u001b[0m\u001b[0;34m)\u001b[0m\u001b[0;34m\u001b[0m\u001b[0m\n\u001b[1;32m   1179\u001b[0m             \u001b[0mout\u001b[0m \u001b[0;34m=\u001b[0m \u001b[0;32mNone\u001b[0m\u001b[0;34m\u001b[0m\u001b[0m\n",
      "\u001b[0;32m<timed exec>\u001b[0m in \u001b[0;36m<module>\u001b[0;34m()\u001b[0m\n",
      "\u001b[0;32m<ipython-input-118-7f3c0bc5f91c>\u001b[0m in \u001b[0;36mResponse\u001b[0;34m(board, w, full)\u001b[0m\n\u001b[1;32m     25\u001b[0m \u001b[0;34m\u001b[0m\u001b[0m\n\u001b[1;32m     26\u001b[0m     \u001b[0mX0\u001b[0m  \u001b[0;34m=\u001b[0m \u001b[0mInput\u001b[0m\u001b[0;34m(\u001b[0m\u001b[0mtable\u001b[0m\u001b[0;34m)\u001b[0m\u001b[0;34m\u001b[0m\u001b[0m\n\u001b[0;32m---> 27\u001b[0;31m     \u001b[0mY\u001b[0m   \u001b[0;34m=\u001b[0m \u001b[0mSigmoid\u001b[0m\u001b[0;34m(\u001b[0m\u001b[0mForwardProp\u001b[0m\u001b[0;34m(\u001b[0m\u001b[0mtable\u001b[0m\u001b[0;34m,\u001b[0m \u001b[0mw\u001b[0m\u001b[0;34m)\u001b[0m\u001b[0;34m)\u001b[0m\u001b[0;34m\u001b[0m\u001b[0m\n\u001b[0m\u001b[1;32m     28\u001b[0m     \u001b[0;32mfor\u001b[0m \u001b[0mi\u001b[0m \u001b[0;32min\u001b[0m \u001b[0mrange\u001b[0m\u001b[0;34m(\u001b[0m\u001b[0;36m0\u001b[0m\u001b[0;34m,\u001b[0m \u001b[0mCOLS\u001b[0m\u001b[0;34m)\u001b[0m\u001b[0;34m:\u001b[0m\u001b[0;34m\u001b[0m\u001b[0m\n\u001b[1;32m     29\u001b[0m         \u001b[0;32mif\u001b[0m \u001b[0;34m(\u001b[0m \u001b[0mIsColFull\u001b[0m\u001b[0;34m(\u001b[0m\u001b[0mtable\u001b[0m\u001b[0;34m,\u001b[0m\u001b[0mi\u001b[0m\u001b[0;34m)\u001b[0m \u001b[0;34m)\u001b[0m\u001b[0;34m:\u001b[0m \u001b[0mY\u001b[0m\u001b[0;34m[\u001b[0m\u001b[0mi\u001b[0m\u001b[0;34m]\u001b[0m \u001b[0;34m=\u001b[0m \u001b[0;36m0\u001b[0m\u001b[0;34m\u001b[0m\u001b[0m\n",
      "\u001b[0;32m<ipython-input-118-7f3c0bc5f91c>\u001b[0m in \u001b[0;36mForwardProp\u001b[0;34m(X0, w)\u001b[0m\n\u001b[1;32m     17\u001b[0m \u001b[0;34m\u001b[0m\u001b[0m\n\u001b[1;32m     18\u001b[0m \u001b[0;32mdef\u001b[0m \u001b[0mForwardProp\u001b[0m\u001b[0;34m(\u001b[0m\u001b[0mX0\u001b[0m\u001b[0;34m,\u001b[0m \u001b[0mw\u001b[0m\u001b[0;34m)\u001b[0m\u001b[0;34m:\u001b[0m\u001b[0;34m\u001b[0m\u001b[0m\n\u001b[0;32m---> 19\u001b[0;31m     \u001b[0mX1\u001b[0m  \u001b[0;34m=\u001b[0m \u001b[0mSigmoid\u001b[0m\u001b[0;34m(\u001b[0m \u001b[0mnp\u001b[0m\u001b[0;34m.\u001b[0m\u001b[0mdot\u001b[0m\u001b[0;34m(\u001b[0m \u001b[0mX0\u001b[0m\u001b[0;34m,\u001b[0m \u001b[0mw\u001b[0m\u001b[0;34m[\u001b[0m\u001b[0;36m0\u001b[0m\u001b[0;34m]\u001b[0m \u001b[0;34m)\u001b[0m \u001b[0;34m)\u001b[0m\u001b[0;34m\u001b[0m\u001b[0m\n\u001b[0m\u001b[1;32m     20\u001b[0m     \u001b[0mX1\u001b[0m\u001b[0;34m[\u001b[0m\u001b[0;34m:\u001b[0m\u001b[0;34m,\u001b[0m\u001b[0;36m0\u001b[0m\u001b[0;34m]\u001b[0m \u001b[0;34m=\u001b[0m \u001b[0;36m1\u001b[0m \u001b[0;31m# Bias unit\u001b[0m\u001b[0;34m\u001b[0m\u001b[0m\n\u001b[1;32m     21\u001b[0m     \u001b[0mX2\u001b[0m  \u001b[0;34m=\u001b[0m \u001b[0mSigmoid\u001b[0m\u001b[0;34m(\u001b[0m \u001b[0mnp\u001b[0m\u001b[0;34m.\u001b[0m\u001b[0mdot\u001b[0m\u001b[0;34m(\u001b[0m \u001b[0mX1\u001b[0m\u001b[0;34m,\u001b[0m \u001b[0mw\u001b[0m\u001b[0;34m[\u001b[0m\u001b[0;36m1\u001b[0m\u001b[0;34m]\u001b[0m\u001b[0;34m.\u001b[0m\u001b[0mT\u001b[0m \u001b[0;34m)\u001b[0m \u001b[0;34m)\u001b[0m\u001b[0;34m\u001b[0m\u001b[0m\n",
      "\u001b[0;31mValueError\u001b[0m: shapes (6,7) and (85,85) not aligned: 7 (dim 1) != 85 (dim 0)"
     ]
    }
   ],
   "source": [
    "%%time\n",
    "E  = 20\n",
    "w  = RandomWeights()\n",
    "w  = Offspring(w,w)\n",
    "\n",
    "for e in range(0,E):\n",
    "    fits = []\n",
    "    for p in range(0,POPU):\n",
    "        fitness = 0\n",
    "        for (board, moves) in train:\n",
    "            board2, moves2, x2 = AnotherChance(board, moves, Response(board, w[p]) )\n",
    "            fitness += (x2+1)%3\n",
    "        fits.append(fitness)\n",
    "    print('Generation {0}, Fitness = {1}'.format(e, np.max(fits)))\n",
    "    \n",
    "    best   = np.argmax(fits)\n",
    "    w1 = w[best]\n",
    "    fits[best] = 0\n",
    "    best   = np.argmax(fits)\n",
    "    w2 = w[best]\n",
    "    #w2 = RandomWeights()\n",
    "    w  = Offspring(w1,w2) "
   ]
  },
  {
   "cell_type": "code",
   "execution_count": 1236,
   "metadata": {
    "collapsed": true
   },
   "outputs": [
    {
     "name": "stdout",
     "output_type": "stream",
     "text": [
      "Epoch 0 ended with fitness 16.0\n",
      "Epoch 1 ended with fitness 26.0\n",
      "Epoch 2 ended with fitness 34.0\n",
      "Epoch 3 ended with fitness 30.0\n",
      "Epoch 4 ended with fitness 32.0\n",
      "Epoch 5 ended with fitness 34.0\n",
      "Epoch 6 ended with fitness 36.0\n",
      "Epoch 7 ended with fitness 34.0\n",
      "Epoch 8 ended with fitness 32.0\n",
      "Epoch 9 ended with fitness 32.0\n",
      "Epoch 10 ended with fitness 32.0\n",
      "Epoch 11 ended with fitness 24.0\n",
      "Epoch 12 ended with fitness 34.0\n",
      "Epoch 13 ended with fitness 28.0\n",
      "Epoch 14 ended with fitness 36.0\n",
      "Epoch 15 ended with fitness 30.0\n",
      "Epoch 16 ended with fitness 26.0\n",
      "Epoch 17 ended with fitness 32.0\n",
      "Epoch 18 ended with fitness 32.0\n",
      "Epoch 19 ended with fitness 34.0\n",
      "Epoch 20 ended with fitness 26.0\n",
      "Epoch 21 ended with fitness 36.0\n",
      "Epoch 22 ended with fitness 36.0\n",
      "Epoch 23 ended with fitness 38.0\n",
      "Epoch 24 ended with fitness 38.0\n",
      "Epoch 25 ended with fitness 36.0\n",
      "Epoch 26 ended with fitness 38.0\n",
      "Epoch 27 ended with fitness 34.0\n",
      "Epoch 28 ended with fitness 38.0\n",
      "Epoch 29 ended with fitness 36.0\n",
      "Wall time: 3min 48s\n"
     ]
    }
   ],
   "source": [
    "%%time\n",
    "w   = np.random.uniform(low=-1, high=1, size=(POPU, COLS, INPUT))\n",
    "#w = Offspring(w1,w2)\n",
    "for e in range(0,EPOCHS):\n",
    "    w1, w2, fit = PickBest(w)\n",
    "    print('Epoch {0} ended with fitness {1}'.format(e, fit))\n",
    "    w  = Offspring(w1,w2)"
   ]
  },
  {
   "cell_type": "code",
   "execution_count": 123,
   "metadata": {
    "collapsed": false
   },
   "outputs": [
    {
     "data": {
      "text/plain": [
       "(7, 85)"
      ]
     },
     "execution_count": 123,
     "metadata": {},
     "output_type": "execute_result"
    }
   ],
   "source": [
    "w.shape"
   ]
  },
  {
   "cell_type": "code",
   "execution_count": 130,
   "metadata": {
    "collapsed": false
   },
   "outputs": [
    {
     "data": {
      "text/plain": [
       "array([[ 0.06176141,  0.2865695 ,  0.99990661,  0.30499055,  0.06176141,\n",
       "         0.65006243,  0.06176141]])"
      ]
     },
     "execution_count": 130,
     "metadata": {},
     "output_type": "execute_result"
    }
   ],
   "source": [
    "ForwardProp([Input(table)], w)"
   ]
  },
  {
   "cell_type": "code",
   "execution_count": 136,
   "metadata": {
    "collapsed": true
   },
   "outputs": [
    {
     "data": {
      "image/png": "[encoded data removed]",
      "text/plain": [
       "<matplotlib.figure.Figure at 0x12b49ab00>"
      ]
     },
     "metadata": {},
     "output_type": "display_data"
    }
   ],
   "source": [
    "board = NewTable()\n",
    "board = MakeMove(board, w, 1)\n",
    "DrawBoard(board)"
   ]
  },
  {
   "cell_type": "code",
   "execution_count": 140,
   "metadata": {
    "collapsed": true
   },
   "outputs": [
    {
     "data": {
      "image/png": "[encoded data removed]",
      "text/plain": [
       "<matplotlib.figure.Figure at 0x12b552320>"
      ]
     },
     "metadata": {},
     "output_type": "display_data"
    }
   ],
   "source": [
    "board, ok = DropIn(board, 5, 2)\n",
    "board     = MakeMove(board, w, 1)\n",
    "DrawBoard(board)"
   ]
  },
  {
   "cell_type": "code",
   "execution_count": 1557,
   "metadata": {
    "collapsed": false
   },
   "outputs": [],
   "source": [
    "pd.DataFrame(w1).to_hdf('Forza','Trained')"
   ]
  },
  {
   "cell_type": "code",
   "execution_count": 1596,
   "metadata": {
    "collapsed": false
   },
   "outputs": [],
   "source": [
    "w0 = pd.read_hdf('Forza','Trained').as_matrix()"
   ]
  },
  {
   "cell_type": "markdown",
   "metadata": {
    "collapsed": true
   },
   "source": [
    "# Old Stuffs"
   ]
  },
  {
   "cell_type": "code",
   "execution_count": null,
   "metadata": {
    "collapsed": true
   },
   "outputs": [],
   "source": [
    "def LinearChallenge(w1, j):\n",
    "    board = NewTable()\n",
    "    i = 0\n",
    "    moves = []\n",
    "    while ( not IsFull(board) ):\n",
    "    \n",
    "        j = j % COLS\n",
    "            \n",
    "        moves.append(Response(board, w1))\n",
    "        board, ok = DropIn(board, moves[i], 1)\n",
    "        if (not ok) :\n",
    "            x = 2\n",
    "            break\n",
    "        x = Winner(board)\n",
    "        if x == 1 : break\n",
    "            \n",
    "        board, ok = DropIn(board, j, 2)\n",
    "        x = Winner(board)\n",
    "        if x == 2 : break\n",
    "            \n",
    "        i += 1\n",
    "        j += 1\n",
    "    return [x,i,board, moves]\n",
    "\n",
    "def ConstantChallenge(w1, j):\n",
    "    board = NewTable()\n",
    "    j = j % COLS\n",
    "    i = 0\n",
    "    moves = []\n",
    "    while ( not IsFull(board) ):\n",
    "            \n",
    "        moves.append(Response(board, w1))\n",
    "        board, ok = DropIn(board, moves[i], 1)\n",
    "        if (not ok) :\n",
    "            x = 2\n",
    "            break\n",
    "        x = Winner(board)\n",
    "        if x == 1 : break\n",
    "            \n",
    "        board, ok = DropIn(board, j, 2)\n",
    "        x = Winner(board)\n",
    "        if x == 2 : break\n",
    "            \n",
    "        i += 1\n",
    "    return [x,i,board, moves]\n",
    "\n",
    "def Challenge(w1,w2):\n",
    "    board = NewTable()\n",
    "    i = 0\n",
    "    moves = []\n",
    "    while ( not IsFull(board) ):\n",
    "        #print(i)\n",
    "        #if i > 50 : return [x,i,board]\n",
    "        moves.append(Response(board, w1))\n",
    "        board, ok = DropIn(board, moves[i], 1)\n",
    "        if (not ok) :\n",
    "            x = 2\n",
    "            break\n",
    "        x = Winner(board)\n",
    "        if x == 1 : break\n",
    "        board, ok = DropIn(board, Response(board, w2), 2)\n",
    "        if (not ok) :\n",
    "            x = 0\n",
    "            break\n",
    "        x = Winner(board)\n",
    "        if x == 2 : break\n",
    "        \n",
    "        i += 1\n",
    "    return [x,i,board, moves]\n",
    "\n",
    "\n",
    "def PickBest(w):\n",
    "    fits = np.zeros(POPU)\n",
    "\n",
    "    for p in range(0, POPU):\n",
    "        w1 = w[p]\n",
    "        fits[p] = FitnessOf(w1,w)\n",
    "\n",
    "    best   = np.argmax(fits)\n",
    "    w1 = w[best]\n",
    "    best_f = fits[best].copy()\n",
    "    fits[best] = 0\n",
    "    best   = np.argmax(fits)\n",
    "    w2 = w[best]\n",
    "    return w1, w2, best_f\n",
    "\n",
    "\n",
    "def FitnessOf(w1, w):\n",
    "    fitness = 0\n",
    "    sample  = np.random.randint(0, len(w), size=LIFE)\n",
    "    \n",
    "    for j in range(0, LIFE):\n",
    "        w2 = RandomWeights()\n",
    "        x, i, board, moves = Challenge(w1,w2)\n",
    "        fitness += Reward(x,i)\n",
    "            \n",
    "    for j in range(0,LIFE):\n",
    "        x, i, board, moves = ConstantChallenge(w1, j)\n",
    "        fitness += Reward(x,i)\n",
    "            \n",
    "    for j in range(0,LIFE):\n",
    "        x, i, board, moves = LinearChallenge(w1, j)\n",
    "        fitness += Reward(x,i)\n",
    "        \n",
    "    for p in sample:\n",
    "        w2 = w[p]\n",
    "        x, i, board, moves = Challenge(w1,w2)\n",
    "        fitness += Reward(x,i)\n",
    "\n",
    "    return fitness"
   ]
  },
  {
   "cell_type": "markdown",
   "metadata": {},
   "source": [
    "# Tensor Flow"
   ]
  },
  {
   "cell_type": "code",
   "execution_count": 147,
   "metadata": {
    "collapsed": false
   },
   "outputs": [],
   "source": [
    "import tensorflow as tf"
   ]
  },
  {
   "cell_type": "code",
   "execution_count": 324,
   "metadata": {
    "collapsed": false,
    "scrolled": false
   },
   "outputs": [
    {
     "name": "stdout",
     "output_type": "stream",
     "text": [
      "10000\n",
      "CPU times: user 486 ms, sys: 2.87 ms, total: 489 ms\n",
      "Wall time: 534 ms\n"
     ]
    }
   ],
   "source": [
    "%%time\n",
    "#train = []\n",
    "\n",
    "for i in range(0,10):\n",
    "    board, moves, x = NewTable(), [], 0\n",
    "    board, moves, x = RandomMatch(board, moves, x)\n",
    "    if x > 1: train.append([board, moves].copy())\n",
    "        \n",
    "print(len(train))"
   ]
  },
  {
   "cell_type": "code",
   "execution_count": null,
   "metadata": {
    "collapsed": true
   },
   "outputs": [],
   "source": [
    "X = np.array([ Input(board)         for (board, moves) in train ])\n",
    "Y = np.array([ HotVector(moves[-1]) for (board, moves) in train ])"
   ]
  },
  {
   "cell_type": "code",
   "execution_count": 390,
   "metadata": {
    "collapsed": false
   },
   "outputs": [],
   "source": [
    "np.savetxt('Train_X.csv', X)\n",
    "np.savetxt('Train_Y.csv', Y)"
   ]
  },
  {
   "cell_type": "code",
   "execution_count": 326,
   "metadata": {
    "collapsed": false
   },
   "outputs": [],
   "source": [
    "x = tf.placeholder(tf.float32, [None, INPUT])\n",
    "W = tf.Variable(tf.zeros([INPUT, COLS]))\n",
    "b = tf.Variable(tf.zeros([COLS]))"
   ]
  },
  {
   "cell_type": "code",
   "execution_count": 327,
   "metadata": {
    "collapsed": true
   },
   "outputs": [],
   "source": [
    "y = tf.nn.softmax(tf.matmul(x, W) + b)\n",
    "\n",
    "y_ = tf.placeholder(tf.float32, [None, COLS])\n",
    "\n",
    "cross_entropy = tf.reduce_mean(-tf.reduce_sum(y_ * tf.log(y), reduction_indices=[1]))\n",
    "\n",
    "train_step = tf.train.GradientDescentOptimizer(0.5).minimize(cross_entropy)"
   ]
  },
  {
   "cell_type": "code",
   "execution_count": 328,
   "metadata": {
    "collapsed": true
   },
   "outputs": [],
   "source": [
    "init = tf.initialize_all_variables()\n",
    "sess = tf.Session()\n",
    "sess.run(init)"
   ]
  },
  {
   "cell_type": "code",
   "execution_count": 342,
   "metadata": {
    "collapsed": false
   },
   "outputs": [
    {
     "name": "stdout",
     "output_type": "stream",
     "text": [
      "0.639164\n",
      "CPU times: user 3.87 s, sys: 140 ms, total: 4.01 s\n",
      "Wall time: 3.5 s\n"
     ]
    }
   ],
   "source": [
    "%%time\n",
    "N = 200\n",
    "for i in range(1000):\n",
    "    train_X, train_Y = RandomTrain(X,Y,N)\n",
    "    sess.run(train_step, feed_dict={x: train_X, y_: train_Y})\n",
    "\n",
    "correct_prediction = tf.equal(tf.argmax(y,1), tf.argmax(y_,1))\n",
    "accuracy = tf.reduce_mean(tf.cast(correct_prediction, tf.float32))\n",
    "\n",
    "print(sess.run(accuracy, feed_dict={x: X, y_: Y}))\n",
    "\n",
    "w = W.eval(sess).T"
   ]
  },
  {
   "cell_type": "code",
   "execution_count": 373,
   "metadata": {
    "collapsed": false
   },
   "outputs": [
    {
     "data": {
      "image/png": "[encoded data removed]",
      "text/plain": [
       "<matplotlib.figure.Figure at 0x1226a7a90>"
      ]
     },
     "metadata": {},
     "output_type": "display_data"
    }
   ],
   "source": [
    "board = NewTable()\n",
    "board = MakeMove(board, w, 1)\n",
    "DrawBoard(board)"
   ]
  },
  {
   "cell_type": "code",
   "execution_count": 382,
   "metadata": {
    "collapsed": false
   },
   "outputs": [
    {
     "data": {
      "image/png": "[encoded data removed]",
      "text/plain": [
       "<matplotlib.figure.Figure at 0x124320ef0>"
      ]
     },
     "metadata": {},
     "output_type": "display_data"
    }
   ],
   "source": [
    "board, ok = DropIn(board, 2, 2)\n",
    "board     = MakeMove(board, w, 1)\n",
    "AnnounceWinner(board)\n",
    "DrawBoard(board)"
   ]
  },
  {
   "cell_type": "code",
   "execution_count": 391,
   "metadata": {
    "collapsed": true
   },
   "outputs": [],
   "source": [
    "np.savetxt(\"Forza.csv\", w)"
   ]
  },
  {
   "cell_type": "code",
   "execution_count": 392,
   "metadata": {
    "collapsed": false
   },
   "outputs": [
    {
     "data": {
      "text/plain": [
       "(10000, 85)"
      ]
     },
     "execution_count": 392,
     "metadata": {},
     "output_type": "execute_result"
    }
   ],
   "source": [
    "X.shape"
   ]
  },
  {
   "cell_type": "code",
   "execution_count": null,
   "metadata": {
    "collapsed": true
   },
   "outputs": [],
   "source": []
  }
 ],
 "metadata": {
  "kernelspec": {
   "display_name": "Python 3",
   "language": "python",
   "name": "python3"
  },
  "language_info": {
   "codemirror_mode": {
    "name": "ipython",
    "version": 3
   },
   "file_extension": ".py",
   "mimetype": "text/x-python",
   "name": "python",
   "nbconvert_exporter": "python",
   "pygments_lexer": "ipython3",
   "version": "3.5.1"
  }
 },
 "nbformat": 4,
 "nbformat_minor": 0
}
